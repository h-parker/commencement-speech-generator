{
 "cells": [
  {
   "cell_type": "markdown",
   "metadata": {},
   "source": [
    "# What's in this notebook?\n",
    "I'm going to experiment with the library Markovify to see how that library performs. If there's time, I'll use word2vec to possibly link related sentences to get a more cohesive paragraph! Over all, expect silliness, not brilliant and podium ready commencement addresses."
   ]
  },
  {
   "cell_type": "code",
   "execution_count": 1,
   "metadata": {},
   "outputs": [
    {
     "name": "stdout",
     "output_type": "stream",
     "text": [
      "Collecting markovify\n",
      "  Downloading https://files.pythonhosted.org/packages/99/b7/a5cf39283f08c8013623dbcf67063b0215942ae464fc864eca1434d050e1/markovify-0.7.2.tar.gz\n",
      "Collecting unidecode (from markovify)\n",
      "\u001b[?25l  Downloading https://files.pythonhosted.org/packages/d0/42/d9edfed04228bacea2d824904cae367ee9efd05e6cce7ceaaedd0b0ad964/Unidecode-1.1.1-py2.py3-none-any.whl (238kB)\n",
      "\u001b[K     |████████████████████████████████| 245kB 2.6MB/s eta 0:00:01\n",
      "\u001b[?25hBuilding wheels for collected packages: markovify\n",
      "  Building wheel for markovify (setup.py) ... \u001b[?25ldone\n",
      "\u001b[?25h  Created wheel for markovify: filename=markovify-0.7.2-cp37-none-any.whl size=10309 sha256=4d2c6a22f71adb7a0d897d31077e25998fb3842732b28deb43bc9f72cd4a9767\n",
      "  Stored in directory: /Users/hannah/Library/Caches/pip/wheels/0c/19/38/b901adb8ab0721a6c8c86f468e48b22f3ecf08560e6aeb99fa\n",
      "Successfully built markovify\n",
      "Installing collected packages: unidecode, markovify\n",
      "Successfully installed markovify-0.7.2 unidecode-1.1.1\n"
     ]
    }
   ],
   "source": [
    "!pip install markovify"
   ]
  },
  {
   "cell_type": "code",
   "execution_count": 2,
   "metadata": {},
   "outputs": [],
   "source": [
    "import markovify\n",
    "import pickle"
   ]
  },
  {
   "cell_type": "code",
   "execution_count": 4,
   "metadata": {},
   "outputs": [],
   "source": [
    "with open('processed_transcripts.pickle', 'rb') as f:\n",
    "    # The protocol version used is detected automatically, so we do not\n",
    "    # have to specify it.\n",
    "    data = pickle.load(f)"
   ]
  },
  {
   "cell_type": "markdown",
   "metadata": {},
   "source": [
    "## Vanilla Model"
   ]
  },
  {
   "cell_type": "code",
   "execution_count": 7,
   "metadata": {},
   "outputs": [],
   "source": [
    "text_model = markovify.Text(data.transcript.tolist())"
   ]
  },
  {
   "cell_type": "code",
   "execution_count": 8,
   "metadata": {},
   "outputs": [
    {
     "name": "stdout",
     "output_type": "stream",
     "text": [
      "We all cherish our position of Four Seasons Hotel he didn't use your time and I noticed Ive never had before.\n"
     ]
    }
   ],
   "source": [
    "print(text_model.make_sentence())"
   ]
  },
  {
   "cell_type": "code",
   "execution_count": 9,
   "metadata": {},
   "outputs": [
    {
     "name": "stdout",
     "output_type": "stream",
     "text": [
      "I recall one day one night we opened our wallets firefighters and police to promote Latin American trade expansion.\n"
     ]
    }
   ],
   "source": [
    "print(text_model.make_sentence())"
   ]
  },
  {
   "cell_type": "code",
   "execution_count": 10,
   "metadata": {},
   "outputs": [
    {
     "name": "stdout",
     "output_type": "stream",
     "text": [
      "The only thing to say, “I don’t know, when you’re walking into the largest group of recipients of a Super Soaker water cannon they have been operating with increasing subtlety and responsiveness the predicaments to which the market is not structured like the ripples go well adriaen roll a well calibrated BS detector.\n"
     ]
    }
   ],
   "source": [
    "print(text_model.make_sentence())"
   ]
  },
  {
   "cell_type": "code",
   "execution_count": 11,
   "metadata": {},
   "outputs": [
    {
     "name": "stdout",
     "output_type": "stream",
     "text": [
      "They are the last couple of rows ahead.\n"
     ]
    }
   ],
   "source": [
    "print(text_model.make_sentence())"
   ]
  },
  {
   "cell_type": "code",
   "execution_count": 12,
   "metadata": {},
   "outputs": [
    {
     "name": "stdout",
     "output_type": "stream",
     "text": [
      "Be open to all the time.\n"
     ]
    }
   ],
   "source": [
    "print(text_model.make_sentence())"
   ]
  },
  {
   "cell_type": "code",
   "execution_count": 13,
   "metadata": {},
   "outputs": [
    {
     "name": "stdout",
     "output_type": "stream",
     "text": [
      "That’s why I’m so grateful to that same precept and I like pig yeah you sort of busking musician trying to get to, even if its scary Out There.\n"
     ]
    }
   ],
   "source": [
    "print(text_model.make_sentence())"
   ]
  },
  {
   "cell_type": "markdown",
   "metadata": {},
   "source": [
    "Unsurprisingly, these make mostly no sense! They're funny, but kinda useless. I'm curious to see what happens if I seed the first word of the sentence with an idea I want it to talk about."
   ]
  },
  {
   "cell_type": "code",
   "execution_count": 26,
   "metadata": {},
   "outputs": [
    {
     "name": "stdout",
     "output_type": "stream",
     "text": [
      "Make the distinction between the spotlights people literally falling from the all -­- consuming sadness . The first route to fulfillment.\n"
     ]
    }
   ],
   "source": [
    "print(text_model.make_sentence_with_start('Make the'))"
   ]
  },
  {
   "cell_type": "code",
   "execution_count": 27,
   "metadata": {},
   "outputs": [
    {
     "name": "stdout",
     "output_type": "stream",
     "text": [
      "You are the architects of Chrysler's turnaround and they wish to incite violence against others against allies and pause to wonder, and to help hardworking people.\n"
     ]
    }
   ],
   "source": [
    "print(text_model.make_sentence_with_start('You are'))"
   ]
  },
  {
   "cell_type": "code",
   "execution_count": 30,
   "metadata": {},
   "outputs": [
    {
     "name": "stdout",
     "output_type": "stream",
     "text": [
      "I want Dave. Phil put his degree in political science or engineering, law or textbooks or manuals or your family.\n"
     ]
    }
   ],
   "source": [
    "print(text_model.make_sentence_with_start('I want'))"
   ]
  },
  {
   "cell_type": "markdown",
   "metadata": {},
   "source": [
    "Still very silly! If I try to string them together, starting randomly and then using a random word from the previous sentence to seed the next sentence, will that give me some semblence of a coherent paragraph?"
   ]
  },
  {
   "cell_type": "code",
   "execution_count": 54,
   "metadata": {},
   "outputs": [
    {
     "data": {
      "text/plain": [
       "\"For me, success has been an honor to have a chance to go fully in the equipment manuals and would and if it makes me amazing thing the school teaches. One more story and was soundly beaten. By the way, there were no Owen those were statistics; those weren't people. There were so lucky to have her hip replaced.\""
      ]
     },
     "execution_count": 54,
     "metadata": {},
     "output_type": "execute_result"
    }
   ],
   "source": [
    "import random \n",
    "\n",
    "def make_bad_speech(num_sentences):\n",
    "    # starting sentence\n",
    "    paragraph = [text_model.make_sentence()]\n",
    "    i = 1 # we already have one sentence\n",
    "    while i < num_sentences:\n",
    "        start_word = random.choice(paragraph[i-1].split(' ')).title()\n",
    "        try:\n",
    "            paragraph.append(text_model.make_sentence_with_start(start_word))\n",
    "        except:\n",
    "            paragraph.append(text_model.make_sentence())\n",
    "        i += 1\n",
    "    return ' '.join(paragraph)\n",
    "\n",
    "make_bad_speech(4)"
   ]
  },
  {
   "cell_type": "code",
   "execution_count": 41,
   "metadata": {},
   "outputs": [
    {
     "data": {
      "text/plain": [
       "\"And for the first time but after this he'll be getting the chance that you find yourself wondering: \\x93Why am I wasting my time.” this day I spent 30 years I switched to the polls in the rarified air of entitlement, as if we know in modern industrial societies.--Jointly with our own ideas and cool technology; more importantly, now, we can try, we can ingest them you sell them software. This is the part of seventeen years. No one remembers people like Quentin Tarantino, J.J. Defining ourselves by what we do this, the race is never fatal: it is that spoke of \\x96 the only thing you know that apathy is simply an encouragement because say when asked how we live in and gives them much longer do I do see evidence of a right wing if it's just miserable; it sucks!\""
      ]
     },
     "execution_count": 41,
     "metadata": {},
     "output_type": "execute_result"
    }
   ],
   "source": [
    "make_speech(5)"
   ]
  },
  {
   "cell_type": "code",
   "execution_count": 42,
   "metadata": {},
   "outputs": [
    {
     "data": {
      "text/plain": [
       "\"It's fair to say so. I even got an acappella singer. OK, I got from his failures.\""
      ]
     },
     "execution_count": 42,
     "metadata": {},
     "output_type": "execute_result"
    }
   ],
   "source": [
    "make_speech(3)"
   ]
  },
  {
   "cell_type": "code",
   "execution_count": 47,
   "metadata": {},
   "outputs": [
    {
     "data": {
      "text/plain": [
       "\"And he told me, \\x93We need another pair of beat up lungs. But there is no surety. But \\x91because you are graduating magna laude or summa laude now he's in a moment like this, it could block the end of this Inlet is dedicated to academic ventures I might have heard graduation speeches from scratch all to just walk through those doors will be spoiler alerts.\""
      ]
     },
     "execution_count": 47,
     "metadata": {},
     "output_type": "execute_result"
    }
   ],
   "source": [
    "make_speech(3)"
   ]
  },
  {
   "cell_type": "markdown",
   "metadata": {},
   "source": [
    "## Model Tuning #1\n",
    "After familarizing myself with the code, I found that you can vary the state size. We'll see how increasing the state size does in bettering our results. "
   ]
  },
  {
   "cell_type": "code",
   "execution_count": 48,
   "metadata": {},
   "outputs": [],
   "source": [
    "text_model_2 = markovify.Text(data.transcript.tolist(), state_size=3)"
   ]
  },
  {
   "cell_type": "code",
   "execution_count": 49,
   "metadata": {},
   "outputs": [
    {
     "data": {
      "text/plain": [
       "\"It's not cool to not know what that means what you do with these four things.\""
      ]
     },
     "execution_count": 49,
     "metadata": {},
     "output_type": "execute_result"
    }
   ],
   "source": [
    "text_model_2.make_sentence()"
   ]
  },
  {
   "cell_type": "code",
   "execution_count": 50,
   "metadata": {},
   "outputs": [
    {
     "data": {
      "text/plain": [
       "\"The stories you are about to live are the ones you will be spending at least a little New York savvy so you've got a job as a cog in the clockworks of their organization.\""
      ]
     },
     "execution_count": 50,
     "metadata": {},
     "output_type": "execute_result"
    }
   ],
   "source": [
    "text_model_2.make_sentence()"
   ]
  },
  {
   "cell_type": "code",
   "execution_count": 51,
   "metadata": {},
   "outputs": [
    {
     "data": {
      "text/plain": [
       "'Make the choice in your own personal lives.'"
      ]
     },
     "execution_count": 51,
     "metadata": {},
     "output_type": "execute_result"
    }
   ],
   "source": [
    "text_model_2.make_sentence_with_start(\"Make the\")"
   ]
  },
  {
   "cell_type": "code",
   "execution_count": 53,
   "metadata": {},
   "outputs": [
    {
     "data": {
      "text/plain": [
       "'Change it by going to the stacks to do the thing we fear the most anyway.'"
      ]
     },
     "execution_count": 53,
     "metadata": {},
     "output_type": "execute_result"
    }
   ],
   "source": [
    "text_model_2.make_sentence_with_start(\"Change\")"
   ]
  },
  {
   "cell_type": "markdown",
   "metadata": {},
   "source": [
    "At first glance, it maybe seems a little better? We'll look at the speech generation now."
   ]
  },
  {
   "cell_type": "code",
   "execution_count": 55,
   "metadata": {},
   "outputs": [],
   "source": [
    "def make_bad_speech2(num_sentences):\n",
    "    # starting sentence\n",
    "    paragraph = [text_model_2.make_sentence()]\n",
    "    i = 1 # we already have one sentence\n",
    "    while i < num_sentences:\n",
    "        start_word = random.choice(paragraph[i-1].split(' ')).title()\n",
    "        try:\n",
    "            paragraph.append(text_model.make_sentence_with_start(start_word))\n",
    "        except:\n",
    "            paragraph.append(text_model.make_sentence())\n",
    "        i += 1\n",
    "    return ' '.join(paragraph)"
   ]
  },
  {
   "cell_type": "code",
   "execution_count": 56,
   "metadata": {},
   "outputs": [
    {
     "data": {
      "text/plain": [
       "\"You\\x92re 600 strangers, you have your own criteria. I got fired from Frasier, the one talking to threatening strangers on the edge of the same insistence that led me to exist in the world, we've still got a call and I\\x92m already in wonder of what truly made them happy inside. Still we must continue in the combined company who needed a home.\""
      ]
     },
     "execution_count": 56,
     "metadata": {},
     "output_type": "execute_result"
    }
   ],
   "source": [
    "make_bad_speech2(3)"
   ]
  },
  {
   "cell_type": "code",
   "execution_count": 57,
   "metadata": {},
   "outputs": [
    {
     "data": {
      "text/plain": [
       "\"I believe the truth is that I am standing here today I didn't have to know what compelled people to ask the family members who have supported you through your 30's. Have the confidence of the obstacles. Of course, I took the money you owed him and tonight you just found 10,000 ways that rarely get in a shopping mall, as the main point of time asking, What are the biggest accomplishment of my mind.\""
      ]
     },
     "execution_count": 57,
     "metadata": {},
     "output_type": "execute_result"
    }
   ],
   "source": [
    "make_bad_speech2(3)"
   ]
  },
  {
   "cell_type": "code",
   "execution_count": 59,
   "metadata": {},
   "outputs": [
    {
     "data": {
      "text/plain": [
       "\"When he graduated from a few bad decisions including a desire to make an effort. Graduated into the hand of your bed okay i could do and enJOYing doing it. And so here we\\x92re coming to life through their orchestrations. Their job now is this good again it's a great honor to be here with it all to lose, I flirted with a fake British accent. This is the point here is what somebody wants us to study something that can happen when we cross the truth?\""
      ]
     },
     "execution_count": 59,
     "metadata": {},
     "output_type": "execute_result"
    }
   ],
   "source": [
    "make_bad_speech2(5)"
   ]
  },
  {
   "cell_type": "markdown",
   "metadata": {},
   "source": [
    "Okay, this is a little better, but not insanely so. It could possibly just be luck/personal bias that these paragraphs look a little better to me! We'll try another round of "
   ]
  },
  {
   "cell_type": "markdown",
   "metadata": {},
   "source": [
    "## Model Tuning #2\n",
    "Some of the texts have no punctuation, which is probably what is causing some of these long and rambling sentences. Markovify allows us to combine models, so I'll try making a combination of two models -- one with punctuated text, and one without punctuated text, and I'll weight the punctuated text more heavily."
   ]
  },
  {
   "cell_type": "code",
   "execution_count": 62,
   "metadata": {},
   "outputs": [],
   "source": [
    "text_model_punc =  markovify.Text(data.transcript[data.transcript.apply(lambda x: ',' in x and '.' in x)].tolist(), state_size=3)\n",
    "text_model_no_punc = markovify.Text(data.transcript[~data.transcript.apply(lambda x: ',' in x and '.' in x)].tolist(), state_size=3)\n",
    "\n",
    "# the model trained on punctuated data will be weighted twice as heavily as the one without\n",
    "combined_model = markovify.combine([text_model_punc, text_model_no_punc], [2, 1])\n"
   ]
  },
  {
   "cell_type": "code",
   "execution_count": 63,
   "metadata": {},
   "outputs": [
    {
     "data": {
      "text/plain": [
       "'I share it in the first place?'"
      ]
     },
     "execution_count": 63,
     "metadata": {},
     "output_type": "execute_result"
    }
   ],
   "source": [
    "combined_model.make_sentence()"
   ]
  },
  {
   "cell_type": "code",
   "execution_count": 64,
   "metadata": {},
   "outputs": [
    {
     "data": {
      "text/plain": [
       "'I couldnt get out of here and realize that oh I needed to free myself from them Who was I?'"
      ]
     },
     "execution_count": 64,
     "metadata": {},
     "output_type": "execute_result"
    }
   ],
   "source": [
    "combined_model.make_sentence()"
   ]
  },
  {
   "cell_type": "code",
   "execution_count": 65,
   "metadata": {},
   "outputs": [
    {
     "data": {
      "text/plain": [
       "'That happened to me there.'"
      ]
     },
     "execution_count": 65,
     "metadata": {},
     "output_type": "execute_result"
    }
   ],
   "source": [
    "combined_model.make_sentence()"
   ]
  },
  {
   "cell_type": "code",
   "execution_count": 68,
   "metadata": {},
   "outputs": [
    {
     "data": {
      "text/plain": [
       "'Innovation comes from those who are close to you and fight for the underdog.'"
      ]
     },
     "execution_count": 68,
     "metadata": {},
     "output_type": "execute_result"
    }
   ],
   "source": [
    "combined_model.make_sentence()"
   ]
  },
  {
   "cell_type": "code",
   "execution_count": 69,
   "metadata": {},
   "outputs": [
    {
     "data": {
      "text/plain": [
       "\"Like a 21 day fast from attention, from all the things I love and know I'll never see again I believe in you.\""
      ]
     },
     "execution_count": 69,
     "metadata": {},
     "output_type": "execute_result"
    }
   ],
   "source": [
    "combined_model.make_sentence()"
   ]
  },
  {
   "cell_type": "code",
   "execution_count": 70,
   "metadata": {},
   "outputs": [],
   "source": [
    "def make_bad_speech3(num_sentences):\n",
    "    \"\"\"\n",
    "    Uses the combined model to make a markov-generated speech of the specified length.\n",
    "    \"\"\"\n",
    "    # starting sentence\n",
    "    paragraph = [combined_model.make_sentence()]\n",
    "    i = 1 # we already have one sentence\n",
    "    while i < num_sentences:\n",
    "        start_word = random.choice(paragraph[i-1].split(' ')).title()\n",
    "        try:\n",
    "            paragraph.append(text_model.make_sentence_with_start(start_word))\n",
    "        except:\n",
    "            paragraph.append(text_model.make_sentence())\n",
    "        i += 1\n",
    "    return ' '.join(paragraph)"
   ]
  },
  {
   "cell_type": "code",
   "execution_count": 71,
   "metadata": {},
   "outputs": [
    {
     "data": {
      "text/plain": [
       "\"They rest uqon the basic reality which underlies this Administration's dealings with the Communist countries relates to how we're working with our allies. Be Results Oriented, Have Goals, And Recognize That Hard Work Does Not Always Pay Off!\\x94 If you\\x92re in a limited amount of resilience. So how do we know when I love writing regulations more than the u.s. because of your fears, it can also give time.\""
      ]
     },
     "execution_count": 71,
     "metadata": {},
     "output_type": "execute_result"
    }
   ],
   "source": [
    "make_bad_speech3(3)"
   ]
  },
  {
   "cell_type": "code",
   "execution_count": 73,
   "metadata": {},
   "outputs": [
    {
     "data": {
      "text/plain": [
       "'The hardest part is admitting to yourself that that\\x92s what you have done, I also hope we all find our way home. You will confront this problem: Is this the truth of who we are able to get clarity and peace of mind. Is there no matter what financial and business leaders from around the world. The WilburTheatre on Tremont Street where I impart wisdom so if everyone was marginally unhappy with a lowercase s and can know what we were even then was not what your eye can see that tall building, alone in a century they were teenagers:Do I continue because after all the time after another delivered in a very simple in the habit you create outside yourself.'"
      ]
     },
     "execution_count": 73,
     "metadata": {},
     "output_type": "execute_result"
    }
   ],
   "source": [
    "make_bad_speech3(4)"
   ]
  },
  {
   "cell_type": "code",
   "execution_count": 74,
   "metadata": {},
   "outputs": [
    {
     "data": {
      "text/plain": [
       "'So, the summer after my senior year of college, I\\x92m playing minor league baseball. He said, \\x93And now, direct from London, here\\x92s the chairman of the full story of humanity, it is you have to do is share some pearls of wisdom that said many of you and all of you, as a young Gary Coleman smushed together in groups is an attack on you. A few hours later I had saved to pursue something else. Something safe and legal abortion and any expression of the real world learn to be careful while shaving because when your critics that an American scholarship. I\\x92ve been known to few and glimpses of the world.'"
      ]
     },
     "execution_count": 74,
     "metadata": {},
     "output_type": "execute_result"
    }
   ],
   "source": [
    "make_bad_speech3(5)"
   ]
  },
  {
   "cell_type": "code",
   "execution_count": 75,
   "metadata": {},
   "outputs": [
    {
     "data": {
      "text/plain": [
       "\"Piece of Advice Number Two: Sounds obvious, but find a job that didn\\x92t engage enough of his brain to keep him satisfied. Find your passion, too. Find the courage they showed me that it should be. They know \\x93integrity\\x94 \\x96 but they all scale towards the end of one another and this wonderful class thank you more stress tomorrow, and they were all questions I was 22 years may have been important bridges in my NCAA brackets. it won't matter what it wants. But we can do anything.\""
      ]
     },
     "execution_count": 75,
     "metadata": {},
     "output_type": "execute_result"
    }
   ],
   "source": [
    "make_bad_speech3(5)"
   ]
  },
  {
   "cell_type": "markdown",
   "metadata": {},
   "source": [
    "Okay, there's got to be a better way! I'll see if experimenting with LSTM networks will get me better results -- it should! "
   ]
  },
  {
   "cell_type": "code",
   "execution_count": null,
   "metadata": {},
   "outputs": [],
   "source": []
  }
 ],
 "metadata": {
  "kernelspec": {
   "display_name": "Python 3",
   "language": "python",
   "name": "python3"
  },
  "language_info": {
   "codemirror_mode": {
    "name": "ipython",
    "version": 3
   },
   "file_extension": ".py",
   "mimetype": "text/x-python",
   "name": "python",
   "nbconvert_exporter": "python",
   "pygments_lexer": "ipython3",
   "version": "3.7.3"
  }
 },
 "nbformat": 4,
 "nbformat_minor": 2
}
